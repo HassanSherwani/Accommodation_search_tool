{
  "nbformat": 4,
  "nbformat_minor": 0,
  "metadata": {
    "colab": {
      "name": "Assignment_DS_Source.ipynb",
      "provenance": [],
      "toc_visible": true
    },
    "kernelspec": {
      "display_name": "Python 3",
      "language": "python",
      "name": "python3"
    },
    "language_info": {
      "codemirror_mode": {
        "name": "ipython",
        "version": 3
      },
      "file_extension": ".py",
      "mimetype": "text/x-python",
      "name": "python",
      "nbconvert_exporter": "python",
      "pygments_lexer": "ipython3",
      "version": "3.7.7"
    }
  },
  "cells": [
    {
      "cell_type": "markdown",
      "metadata": {
        "id": "bcvI9w2K2gce"
      },
      "source": [
        "# CASE STUDY – Data Scientist ( Source) "
      ]
    },
    {
      "cell_type": "markdown",
      "metadata": {
        "id": "SiI-2tAn2ixU"
      },
      "source": [
        "# 1- Import Key Modules"
      ]
    },
    {
      "cell_type": "code",
      "metadata": {
        "id": "ffsijfNF2hpv"
      },
      "source": [
        "import pandas as pd\n",
        "import numpy as np\n",
        "import matplotlib.pyplot as plt\n",
        "import seaborn as sns\n",
        "%matplotlib inline\n",
        "import warnings\n",
        "warnings.filterwarnings('ignore')\n",
        "from sklearn.model_selection import train_test_split\n",
        "import sys\n",
        "sys.path.insert(0, '../lib')  # noqa\n",
        "import numpy as np\n",
        "import pandas as pd\n",
        "from sklearn.model_selection import train_test_split\n",
        "from sklearn.metrics import mean_squared_error\n",
        "\n",
        "import pdb\n",
        "from sklearn.metrics import *\n",
        "\n",
        "# for visualization\n",
        "%matplotlib inline\n",
        "import matplotlib.pyplot as plt\n",
        "from sklearn import preprocessing\n",
        "from sklearn.preprocessing import StandardScaler\n",
        "import itertools\n",
        "import csv\n",
        "\n",
        "# for ML models\n",
        "from sklearn.svm import SVC\n",
        "from sklearn.linear_model import LogisticRegression\n",
        "from sklearn.linear_model import LogisticRegressionCV\n",
        "from sklearn.naive_bayes import MultinomialNB\n",
        "from sklearn.naive_bayes import BernoulliNB\n",
        "from sklearn.naive_bayes import GaussianNB\n",
        "from sklearn.ensemble import RandomForestClassifier\n",
        "from sklearn.ensemble import BaggingClassifier\n",
        "from sklearn.ensemble import ExtraTreesClassifier\n",
        "from sklearn.ensemble import AdaBoostClassifier\n",
        "from sklearn.ensemble import GradientBoostingClassifier\n",
        "from sklearn.tree import DecisionTreeClassifier\n",
        "# for model evaluation\n",
        "from sklearn import metrics\n",
        "from sklearn.metrics import confusion_matrix"
      ],
      "execution_count": 1,
      "outputs": []
    },
    {
      "cell_type": "markdown",
      "metadata": {
        "id": "HQ0UXenm25Ak"
      },
      "source": [
        "# 2- Laoding and preparing Data"
      ]
    },
    {
      "cell_type": "code",
      "metadata": {
        "id": "okxePwGg24MJ",
        "outputId": "245723e1-921c-4a4d-fc69-e6c51ea94dd5",
        "colab": {
          "base_uri": "https://localhost:8080/",
          "height": 333
        }
      },
      "source": [
        "# Load Dataset\n",
        "df = pd.read_csv('hotels.csv')\n",
        "pd.set_option('display.max_columns', None)\n",
        "pd.set_option('display.max_rows', None)\n",
        "df.head()"
      ],
      "execution_count": 2,
      "outputs": [
        {
          "output_type": "execute_result",
          "data": {
            "text/html": [
              "<div>\n",
              "<style scoped>\n",
              "    .dataframe tbody tr th:only-of-type {\n",
              "        vertical-align: middle;\n",
              "    }\n",
              "\n",
              "    .dataframe tbody tr th {\n",
              "        vertical-align: top;\n",
              "    }\n",
              "\n",
              "    .dataframe thead th {\n",
              "        text-align: right;\n",
              "    }\n",
              "</style>\n",
              "<table border=\"1\" class=\"dataframe\">\n",
              "  <thead>\n",
              "    <tr style=\"text-align: right;\">\n",
              "      <th></th>\n",
              "      <th>hotel_id</th>\n",
              "      <th>city_id</th>\n",
              "      <th>hotel_type</th>\n",
              "      <th>basename</th>\n",
              "      <th>distance_to_center</th>\n",
              "      <th>longitude</th>\n",
              "      <th>latitude</th>\n",
              "      <th>overall_rating</th>\n",
              "      <th>impression_level</th>\n",
              "      <th>interaction_level</th>\n",
              "      <th>car_park</th>\n",
              "      <th>club_club_hotel</th>\n",
              "      <th>designer_hotel</th>\n",
              "      <th>attraction_hotel</th>\n",
              "      <th>luxury_hotel</th>\n",
              "      <th>beach_front_hotel</th>\n",
              "      <th>convention_hotel</th>\n",
              "      <th>spa_hotel</th>\n",
              "      <th>country_hotel</th>\n",
              "      <th>airport_hotel</th>\n",
              "      <th>senior_hotel</th>\n",
              "      <th>eco_friendly_hotel</th>\n",
              "      <th>party_people</th>\n",
              "      <th>business_people</th>\n",
              "      <th>honeymooners</th>\n",
              "      <th>singles</th>\n",
              "      <th>large_groups</th>\n",
              "      <th>family_hotel</th>\n",
              "      <th>gay_friendly</th>\n",
              "      <th>wifi_lobby</th>\n",
              "      <th>wifi_room</th>\n",
              "    </tr>\n",
              "  </thead>\n",
              "  <tbody>\n",
              "    <tr>\n",
              "      <th>0</th>\n",
              "      <td>11511119</td>\n",
              "      <td>31497</td>\n",
              "      <td>Hotel</td>\n",
              "      <td>Xi Hu</td>\n",
              "      <td>2799</td>\n",
              "      <td>114.171005</td>\n",
              "      <td>22.306065</td>\n",
              "      <td>NaN</td>\n",
              "      <td>1</td>\n",
              "      <td>1</td>\n",
              "      <td>0.0</td>\n",
              "      <td>NaN</td>\n",
              "      <td>NaN</td>\n",
              "      <td>NaN</td>\n",
              "      <td>NaN</td>\n",
              "      <td>NaN</td>\n",
              "      <td>NaN</td>\n",
              "      <td>NaN</td>\n",
              "      <td>NaN</td>\n",
              "      <td>NaN</td>\n",
              "      <td>NaN</td>\n",
              "      <td>NaN</td>\n",
              "      <td>NaN</td>\n",
              "      <td>NaN</td>\n",
              "      <td>NaN</td>\n",
              "      <td>NaN</td>\n",
              "      <td>NaN</td>\n",
              "      <td>NaN</td>\n",
              "      <td>NaN</td>\n",
              "      <td>1.0</td>\n",
              "      <td>1.0</td>\n",
              "    </tr>\n",
              "    <tr>\n",
              "      <th>1</th>\n",
              "      <td>11577919</td>\n",
              "      <td>14121</td>\n",
              "      <td>Hotel</td>\n",
              "      <td>Colors Urban  Thessaloniki</td>\n",
              "      <td>586</td>\n",
              "      <td>22.939219</td>\n",
              "      <td>40.634808</td>\n",
              "      <td>5.0</td>\n",
              "      <td>1</td>\n",
              "      <td>1</td>\n",
              "      <td>0.0</td>\n",
              "      <td>NaN</td>\n",
              "      <td>NaN</td>\n",
              "      <td>NaN</td>\n",
              "      <td>NaN</td>\n",
              "      <td>NaN</td>\n",
              "      <td>NaN</td>\n",
              "      <td>NaN</td>\n",
              "      <td>NaN</td>\n",
              "      <td>NaN</td>\n",
              "      <td>NaN</td>\n",
              "      <td>NaN</td>\n",
              "      <td>NaN</td>\n",
              "      <td>NaN</td>\n",
              "      <td>NaN</td>\n",
              "      <td>NaN</td>\n",
              "      <td>NaN</td>\n",
              "      <td>1.0</td>\n",
              "      <td>NaN</td>\n",
              "      <td>1.0</td>\n",
              "      <td>1.0</td>\n",
              "    </tr>\n",
              "    <tr>\n",
              "      <th>2</th>\n",
              "      <td>11530983</td>\n",
              "      <td>27561</td>\n",
              "      <td>Hotel</td>\n",
              "      <td>Van der Valk Hotel Oostzaan - Amsterdam</td>\n",
              "      <td>6485</td>\n",
              "      <td>4.876711</td>\n",
              "      <td>52.427399</td>\n",
              "      <td>5.0</td>\n",
              "      <td>1</td>\n",
              "      <td>2</td>\n",
              "      <td>1.0</td>\n",
              "      <td>NaN</td>\n",
              "      <td>1.0</td>\n",
              "      <td>NaN</td>\n",
              "      <td>NaN</td>\n",
              "      <td>NaN</td>\n",
              "      <td>NaN</td>\n",
              "      <td>NaN</td>\n",
              "      <td>NaN</td>\n",
              "      <td>NaN</td>\n",
              "      <td>NaN</td>\n",
              "      <td>NaN</td>\n",
              "      <td>NaN</td>\n",
              "      <td>NaN</td>\n",
              "      <td>1.0</td>\n",
              "      <td>1.0</td>\n",
              "      <td>1.0</td>\n",
              "      <td>1.0</td>\n",
              "      <td>NaN</td>\n",
              "      <td>1.0</td>\n",
              "      <td>1.0</td>\n",
              "    </tr>\n",
              "    <tr>\n",
              "      <th>3</th>\n",
              "      <td>11814291</td>\n",
              "      <td>14121</td>\n",
              "      <td>Hotel</td>\n",
              "      <td>Elia City</td>\n",
              "      <td>611</td>\n",
              "      <td>22.938929</td>\n",
              "      <td>40.634880</td>\n",
              "      <td>NaN</td>\n",
              "      <td>1</td>\n",
              "      <td>1</td>\n",
              "      <td>NaN</td>\n",
              "      <td>NaN</td>\n",
              "      <td>NaN</td>\n",
              "      <td>NaN</td>\n",
              "      <td>NaN</td>\n",
              "      <td>NaN</td>\n",
              "      <td>NaN</td>\n",
              "      <td>NaN</td>\n",
              "      <td>NaN</td>\n",
              "      <td>NaN</td>\n",
              "      <td>NaN</td>\n",
              "      <td>NaN</td>\n",
              "      <td>NaN</td>\n",
              "      <td>NaN</td>\n",
              "      <td>NaN</td>\n",
              "      <td>NaN</td>\n",
              "      <td>NaN</td>\n",
              "      <td>NaN</td>\n",
              "      <td>NaN</td>\n",
              "      <td>1.0</td>\n",
              "      <td>1.0</td>\n",
              "    </tr>\n",
              "    <tr>\n",
              "      <th>4</th>\n",
              "      <td>11938295</td>\n",
              "      <td>31497</td>\n",
              "      <td>Home / Apartment</td>\n",
              "      <td>Le Petit Rosedale  Hong Kong</td>\n",
              "      <td>2870</td>\n",
              "      <td>114.189240</td>\n",
              "      <td>22.279209</td>\n",
              "      <td>3.0</td>\n",
              "      <td>1</td>\n",
              "      <td>1</td>\n",
              "      <td>0.0</td>\n",
              "      <td>NaN</td>\n",
              "      <td>NaN</td>\n",
              "      <td>NaN</td>\n",
              "      <td>NaN</td>\n",
              "      <td>NaN</td>\n",
              "      <td>NaN</td>\n",
              "      <td>NaN</td>\n",
              "      <td>NaN</td>\n",
              "      <td>NaN</td>\n",
              "      <td>NaN</td>\n",
              "      <td>NaN</td>\n",
              "      <td>NaN</td>\n",
              "      <td>NaN</td>\n",
              "      <td>NaN</td>\n",
              "      <td>NaN</td>\n",
              "      <td>NaN</td>\n",
              "      <td>NaN</td>\n",
              "      <td>NaN</td>\n",
              "      <td>1.0</td>\n",
              "      <td>1.0</td>\n",
              "    </tr>\n",
              "  </tbody>\n",
              "</table>\n",
              "</div>"
            ],
            "text/plain": [
              "   hotel_id  city_id        hotel_type  \\\n",
              "0  11511119    31497             Hotel   \n",
              "1  11577919    14121             Hotel   \n",
              "2  11530983    27561             Hotel   \n",
              "3  11814291    14121             Hotel   \n",
              "4  11938295    31497  Home / Apartment   \n",
              "\n",
              "                                  basename  distance_to_center   longitude  \\\n",
              "0                                    Xi Hu                2799  114.171005   \n",
              "1               Colors Urban  Thessaloniki                 586   22.939219   \n",
              "2  Van der Valk Hotel Oostzaan - Amsterdam                6485    4.876711   \n",
              "3                                Elia City                 611   22.938929   \n",
              "4             Le Petit Rosedale  Hong Kong                2870  114.189240   \n",
              "\n",
              "    latitude  overall_rating  impression_level  interaction_level  car_park  \\\n",
              "0  22.306065             NaN                 1                  1       0.0   \n",
              "1  40.634808             5.0                 1                  1       0.0   \n",
              "2  52.427399             5.0                 1                  2       1.0   \n",
              "3  40.634880             NaN                 1                  1       NaN   \n",
              "4  22.279209             3.0                 1                  1       0.0   \n",
              "\n",
              "   club_club_hotel  designer_hotel  attraction_hotel  luxury_hotel  \\\n",
              "0              NaN             NaN               NaN           NaN   \n",
              "1              NaN             NaN               NaN           NaN   \n",
              "2              NaN             1.0               NaN           NaN   \n",
              "3              NaN             NaN               NaN           NaN   \n",
              "4              NaN             NaN               NaN           NaN   \n",
              "\n",
              "   beach_front_hotel  convention_hotel  spa_hotel  country_hotel  \\\n",
              "0                NaN               NaN        NaN            NaN   \n",
              "1                NaN               NaN        NaN            NaN   \n",
              "2                NaN               NaN        NaN            NaN   \n",
              "3                NaN               NaN        NaN            NaN   \n",
              "4                NaN               NaN        NaN            NaN   \n",
              "\n",
              "   airport_hotel  senior_hotel  eco_friendly_hotel  party_people  \\\n",
              "0            NaN           NaN                 NaN           NaN   \n",
              "1            NaN           NaN                 NaN           NaN   \n",
              "2            NaN           NaN                 NaN           NaN   \n",
              "3            NaN           NaN                 NaN           NaN   \n",
              "4            NaN           NaN                 NaN           NaN   \n",
              "\n",
              "   business_people  honeymooners  singles  large_groups  family_hotel  \\\n",
              "0              NaN           NaN      NaN           NaN           NaN   \n",
              "1              NaN           NaN      NaN           NaN           1.0   \n",
              "2              NaN           1.0      1.0           1.0           1.0   \n",
              "3              NaN           NaN      NaN           NaN           NaN   \n",
              "4              NaN           NaN      NaN           NaN           NaN   \n",
              "\n",
              "   gay_friendly  wifi_lobby  wifi_room  \n",
              "0           NaN         1.0        1.0  \n",
              "1           NaN         1.0        1.0  \n",
              "2           NaN         1.0        1.0  \n",
              "3           NaN         1.0        1.0  \n",
              "4           NaN         1.0        1.0  "
            ]
          },
          "metadata": {
            "tags": []
          },
          "execution_count": 2
        }
      ]
    },
    {
      "cell_type": "code",
      "metadata": {
        "id": "uoToDVZS3E2S",
        "outputId": "ca7e5a92-e40a-4614-f54e-afb49623b4a9",
        "colab": {
          "base_uri": "https://localhost:8080/",
          "height": 34
        }
      },
      "source": [
        "df.shape"
      ],
      "execution_count": 3,
      "outputs": [
        {
          "output_type": "execute_result",
          "data": {
            "text/plain": [
              "(400, 31)"
            ]
          },
          "metadata": {
            "tags": []
          },
          "execution_count": 3
        }
      ]
    },
    {
      "cell_type": "code",
      "metadata": {
        "id": "3sK_S6Ae3G-0",
        "outputId": "2f45ebd7-3c37-43c6-b435-8e801dc0cba6",
        "colab": {
          "base_uri": "https://localhost:8080/",
          "height": 655
        }
      },
      "source": [
        "df.info()"
      ],
      "execution_count": 4,
      "outputs": [
        {
          "output_type": "stream",
          "text": [
            "<class 'pandas.core.frame.DataFrame'>\n",
            "RangeIndex: 400 entries, 0 to 399\n",
            "Data columns (total 31 columns):\n",
            " #   Column              Non-Null Count  Dtype  \n",
            "---  ------              --------------  -----  \n",
            " 0   hotel_id            400 non-null    int64  \n",
            " 1   city_id             400 non-null    int64  \n",
            " 2   hotel_type          400 non-null    object \n",
            " 3   basename            400 non-null    object \n",
            " 4   distance_to_center  400 non-null    int64  \n",
            " 5   longitude           400 non-null    float64\n",
            " 6   latitude            400 non-null    float64\n",
            " 7   overall_rating      359 non-null    float64\n",
            " 8   impression_level    400 non-null    int64  \n",
            " 9   interaction_level   400 non-null    int64  \n",
            " 10  car_park            292 non-null    float64\n",
            " 11  club_club_hotel     9 non-null      float64\n",
            " 12  designer_hotel      54 non-null     float64\n",
            " 13  attraction_hotel    20 non-null     float64\n",
            " 14  luxury_hotel        53 non-null     float64\n",
            " 15  beach_front_hotel   27 non-null     float64\n",
            " 16  convention_hotel    95 non-null     float64\n",
            " 17  spa_hotel           37 non-null     float64\n",
            " 18  country_hotel       10 non-null     float64\n",
            " 19  airport_hotel       45 non-null     float64\n",
            " 20  senior_hotel        3 non-null      float64\n",
            " 21  eco_friendly_hotel  39 non-null     float64\n",
            " 22  party_people        73 non-null     float64\n",
            " 23  business_people     228 non-null    float64\n",
            " 24  honeymooners        86 non-null     float64\n",
            " 25  singles             105 non-null    float64\n",
            " 26  large_groups        139 non-null    float64\n",
            " 27  family_hotel        157 non-null    float64\n",
            " 28  gay_friendly        82 non-null     float64\n",
            " 29  wifi_lobby          342 non-null    float64\n",
            " 30  wifi_room           342 non-null    float64\n",
            "dtypes: float64(24), int64(5), object(2)\n",
            "memory usage: 97.0+ KB\n"
          ],
          "name": "stdout"
        }
      ]
    },
    {
      "cell_type": "markdown",
      "metadata": {
        "id": "U0TL5mKg3JkN"
      },
      "source": [
        "### checking missing values"
      ]
    },
    {
      "cell_type": "code",
      "metadata": {
        "id": "wjB8S4CQ3IEL",
        "outputId": "d2866221-c241-4eb8-c646-e4a4f2835edd",
        "colab": {
          "base_uri": "https://localhost:8080/",
          "height": 554
        }
      },
      "source": [
        "df.isnull().sum()"
      ],
      "execution_count": 5,
      "outputs": [
        {
          "output_type": "execute_result",
          "data": {
            "text/plain": [
              "hotel_id                0\n",
              "city_id                 0\n",
              "hotel_type              0\n",
              "basename                0\n",
              "distance_to_center      0\n",
              "longitude               0\n",
              "latitude                0\n",
              "overall_rating         41\n",
              "impression_level        0\n",
              "interaction_level       0\n",
              "car_park              108\n",
              "club_club_hotel       391\n",
              "designer_hotel        346\n",
              "attraction_hotel      380\n",
              "luxury_hotel          347\n",
              "beach_front_hotel     373\n",
              "convention_hotel      305\n",
              "spa_hotel             363\n",
              "country_hotel         390\n",
              "airport_hotel         355\n",
              "senior_hotel          397\n",
              "eco_friendly_hotel    361\n",
              "party_people          327\n",
              "business_people       172\n",
              "honeymooners          314\n",
              "singles               295\n",
              "large_groups          261\n",
              "family_hotel          243\n",
              "gay_friendly          318\n",
              "wifi_lobby             58\n",
              "wifi_room              58\n",
              "dtype: int64"
            ]
          },
          "metadata": {
            "tags": []
          },
          "execution_count": 5
        }
      ]
    },
    {
      "cell_type": "code",
      "metadata": {
        "id": "-ezA5Xxn3M5O",
        "outputId": "ca247925-fde9-4489-dde0-ccd816c31475",
        "colab": {
          "base_uri": "https://localhost:8080/",
          "height": 534
        }
      },
      "source": [
        "plt.figure(figsize=(15,7))\n",
        "sns.heatmap(df.isnull())"
      ],
      "execution_count": 6,
      "outputs": [
        {
          "output_type": "execute_result",
          "data": {
            "text/plain": [
              "<matplotlib.axes._subplots.AxesSubplot at 0x7f2297c51b00>"
            ]
          },
          "metadata": {
            "tags": []
          },
          "execution_count": 6
        },
        {
          "output_type": "display_data",
          "data": {
            "image/png": "[encoded data removed]",
            "text/plain": [
              "<Figure size 1080x504 with 2 Axes>"
            ]
          },
          "metadata": {
            "tags": [],
            "needs_background": "light"
          }
        }
      ]
    },
    {
      "cell_type": "code",
      "metadata": {
        "id": "YLBRXspQ3PP6",
        "outputId": "d423a7c2-70bd-4485-accc-6afc73433faa",
        "colab": {
          "base_uri": "https://localhost:8080/",
          "height": 554
        }
      },
      "source": [
        "missing_var_per = df.isnull().sum()/df.shape[0] * 100\n",
        "missing_var_per"
      ],
      "execution_count": 7,
      "outputs": [
        {
          "output_type": "execute_result",
          "data": {
            "text/plain": [
              "hotel_id               0.00\n",
              "city_id                0.00\n",
              "hotel_type             0.00\n",
              "basename               0.00\n",
              "distance_to_center     0.00\n",
              "longitude              0.00\n",
              "latitude               0.00\n",
              "overall_rating        10.25\n",
              "impression_level       0.00\n",
              "interaction_level      0.00\n",
              "car_park              27.00\n",
              "club_club_hotel       97.75\n",
              "designer_hotel        86.50\n",
              "attraction_hotel      95.00\n",
              "luxury_hotel          86.75\n",
              "beach_front_hotel     93.25\n",
              "convention_hotel      76.25\n",
              "spa_hotel             90.75\n",
              "country_hotel         97.50\n",
              "airport_hotel         88.75\n",
              "senior_hotel          99.25\n",
              "eco_friendly_hotel    90.25\n",
              "party_people          81.75\n",
              "business_people       43.00\n",
              "honeymooners          78.50\n",
              "singles               73.75\n",
              "large_groups          65.25\n",
              "family_hotel          60.75\n",
              "gay_friendly          79.50\n",
              "wifi_lobby            14.50\n",
              "wifi_room             14.50\n",
              "dtype: float64"
            ]
          },
          "metadata": {
            "tags": []
          },
          "execution_count": 7
        }
      ]
    },
    {
      "cell_type": "markdown",
      "metadata": {
        "id": "HMCgN1IT3UXN"
      },
      "source": [
        "### Checking categorical variable"
      ]
    },
    {
      "cell_type": "code",
      "metadata": {
        "id": "acW-8MjP3SI2",
        "outputId": "50be81e1-ac2b-4c14-9dec-bcc021a63154",
        "colab": {
          "base_uri": "https://localhost:8080/",
          "height": 67
        }
      },
      "source": [
        "df.wifi_room.value_counts()"
      ],
      "execution_count": 8,
      "outputs": [
        {
          "output_type": "execute_result",
          "data": {
            "text/plain": [
              "1.0    338\n",
              "0.0      4\n",
              "Name: wifi_room, dtype: int64"
            ]
          },
          "metadata": {
            "tags": []
          },
          "execution_count": 8
        }
      ]
    },
    {
      "cell_type": "markdown",
      "metadata": {
        "id": "tqcjFDmc3gYl"
      },
      "source": [
        "### Treating missing value issue"
      ]
    },
    {
      "cell_type": "code",
      "metadata": {
        "id": "7YLw5-pd3d0v",
        "outputId": "a704b8d2-6db1-4bef-f710-9f5fd221f138",
        "colab": {
          "base_uri": "https://localhost:8080/",
          "height": 118
        }
      },
      "source": [
        "# Return the columns whose column's missing value percentage is greater than 25%\n",
        "return_miss_per_columns = missing_var_per[missing_var_per>25].keys()\n",
        "return_miss_per_columns"
      ],
      "execution_count": 9,
      "outputs": [
        {
          "output_type": "execute_result",
          "data": {
            "text/plain": [
              "Index(['car_park', 'club_club_hotel', 'designer_hotel', 'attraction_hotel',\n",
              "       'luxury_hotel', 'beach_front_hotel', 'convention_hotel', 'spa_hotel',\n",
              "       'country_hotel', 'airport_hotel', 'senior_hotel', 'eco_friendly_hotel',\n",
              "       'party_people', 'business_people', 'honeymooners', 'singles',\n",
              "       'large_groups', 'family_hotel', 'gay_friendly'],\n",
              "      dtype='object')"
            ]
          },
          "metadata": {
            "tags": []
          },
          "execution_count": 9
        }
      ]
    },
    {
      "cell_type": "code",
      "metadata": {
        "id": "jQhMmIQB3i5v",
        "outputId": "6377779b-cd91-4470-b505-80f92d12be66",
        "colab": {
          "base_uri": "https://localhost:8080/",
          "height": 34
        }
      },
      "source": [
        "# Delete the column whose column's missing value percentage is greater than 25% \n",
        "delete_miss_per_columns = df.drop(columns=return_miss_per_columns)\n",
        "delete_miss_per_columns.shape"
      ],
      "execution_count": 10,
      "outputs": [
        {
          "output_type": "execute_result",
          "data": {
            "text/plain": [
              "(400, 12)"
            ]
          },
          "metadata": {
            "tags": []
          },
          "execution_count": 10
        }
      ]
    },
    {
      "cell_type": "code",
      "metadata": {
        "id": "88NRsc-v3ksM",
        "outputId": "d5f6678a-06e7-4362-b716-274f58b3a5da",
        "colab": {
          "base_uri": "https://localhost:8080/",
          "height": 333
        }
      },
      "source": [
        "# Return the 'Int' and 'Float' value columns\n",
        "\n",
        "#df2_drop_clm.select_dtypes(include=['int64','float64']).columns\n",
        "df3_num = delete_miss_per_columns.select_dtypes(include=['int64','float64', 'object'])\n",
        "df3_num.shape\n",
        "df3_num.head()"
      ],
      "execution_count": 11,
      "outputs": [
        {
          "output_type": "execute_result",
          "data": {
            "text/html": [
              "<div>\n",
              "<style scoped>\n",
              "    .dataframe tbody tr th:only-of-type {\n",
              "        vertical-align: middle;\n",
              "    }\n",
              "\n",
              "    .dataframe tbody tr th {\n",
              "        vertical-align: top;\n",
              "    }\n",
              "\n",
              "    .dataframe thead th {\n",
              "        text-align: right;\n",
              "    }\n",
              "</style>\n",
              "<table border=\"1\" class=\"dataframe\">\n",
              "  <thead>\n",
              "    <tr style=\"text-align: right;\">\n",
              "      <th></th>\n",
              "      <th>hotel_id</th>\n",
              "      <th>city_id</th>\n",
              "      <th>hotel_type</th>\n",
              "      <th>basename</th>\n",
              "      <th>distance_to_center</th>\n",
              "      <th>longitude</th>\n",
              "      <th>latitude</th>\n",
              "      <th>overall_rating</th>\n",
              "      <th>impression_level</th>\n",
              "      <th>interaction_level</th>\n",
              "      <th>wifi_lobby</th>\n",
              "      <th>wifi_room</th>\n",
              "    </tr>\n",
              "  </thead>\n",
              "  <tbody>\n",
              "    <tr>\n",
              "      <th>0</th>\n",
              "      <td>11511119</td>\n",
              "      <td>31497</td>\n",
              "      <td>Hotel</td>\n",
              "      <td>Xi Hu</td>\n",
              "      <td>2799</td>\n",
              "      <td>114.171005</td>\n",
              "      <td>22.306065</td>\n",
              "      <td>NaN</td>\n",
              "      <td>1</td>\n",
              "      <td>1</td>\n",
              "      <td>1.0</td>\n",
              "      <td>1.0</td>\n",
              "    </tr>\n",
              "    <tr>\n",
              "      <th>1</th>\n",
              "      <td>11577919</td>\n",
              "      <td>14121</td>\n",
              "      <td>Hotel</td>\n",
              "      <td>Colors Urban  Thessaloniki</td>\n",
              "      <td>586</td>\n",
              "      <td>22.939219</td>\n",
              "      <td>40.634808</td>\n",
              "      <td>5.0</td>\n",
              "      <td>1</td>\n",
              "      <td>1</td>\n",
              "      <td>1.0</td>\n",
              "      <td>1.0</td>\n",
              "    </tr>\n",
              "    <tr>\n",
              "      <th>2</th>\n",
              "      <td>11530983</td>\n",
              "      <td>27561</td>\n",
              "      <td>Hotel</td>\n",
              "      <td>Van der Valk Hotel Oostzaan - Amsterdam</td>\n",
              "      <td>6485</td>\n",
              "      <td>4.876711</td>\n",
              "      <td>52.427399</td>\n",
              "      <td>5.0</td>\n",
              "      <td>1</td>\n",
              "      <td>2</td>\n",
              "      <td>1.0</td>\n",
              "      <td>1.0</td>\n",
              "    </tr>\n",
              "    <tr>\n",
              "      <th>3</th>\n",
              "      <td>11814291</td>\n",
              "      <td>14121</td>\n",
              "      <td>Hotel</td>\n",
              "      <td>Elia City</td>\n",
              "      <td>611</td>\n",
              "      <td>22.938929</td>\n",
              "      <td>40.634880</td>\n",
              "      <td>NaN</td>\n",
              "      <td>1</td>\n",
              "      <td>1</td>\n",
              "      <td>1.0</td>\n",
              "      <td>1.0</td>\n",
              "    </tr>\n",
              "    <tr>\n",
              "      <th>4</th>\n",
              "      <td>11938295</td>\n",
              "      <td>31497</td>\n",
              "      <td>Home / Apartment</td>\n",
              "      <td>Le Petit Rosedale  Hong Kong</td>\n",
              "      <td>2870</td>\n",
              "      <td>114.189240</td>\n",
              "      <td>22.279209</td>\n",
              "      <td>3.0</td>\n",
              "      <td>1</td>\n",
              "      <td>1</td>\n",
              "      <td>1.0</td>\n",
              "      <td>1.0</td>\n",
              "    </tr>\n",
              "  </tbody>\n",
              "</table>\n",
              "</div>"
            ],
            "text/plain": [
              "   hotel_id  city_id        hotel_type  \\\n",
              "0  11511119    31497             Hotel   \n",
              "1  11577919    14121             Hotel   \n",
              "2  11530983    27561             Hotel   \n",
              "3  11814291    14121             Hotel   \n",
              "4  11938295    31497  Home / Apartment   \n",
              "\n",
              "                                  basename  distance_to_center   longitude  \\\n",
              "0                                    Xi Hu                2799  114.171005   \n",
              "1               Colors Urban  Thessaloniki                 586   22.939219   \n",
              "2  Van der Valk Hotel Oostzaan - Amsterdam                6485    4.876711   \n",
              "3                                Elia City                 611   22.938929   \n",
              "4             Le Petit Rosedale  Hong Kong                2870  114.189240   \n",
              "\n",
              "    latitude  overall_rating  impression_level  interaction_level  wifi_lobby  \\\n",
              "0  22.306065             NaN                 1                  1         1.0   \n",
              "1  40.634808             5.0                 1                  1         1.0   \n",
              "2  52.427399             5.0                 1                  2         1.0   \n",
              "3  40.634880             NaN                 1                  1         1.0   \n",
              "4  22.279209             3.0                 1                  1         1.0   \n",
              "\n",
              "   wifi_room  \n",
              "0        1.0  \n",
              "1        1.0  \n",
              "2        1.0  \n",
              "3        1.0  \n",
              "4        1.0  "
            ]
          },
          "metadata": {
            "tags": []
          },
          "execution_count": 11
        }
      ]
    },
    {
      "cell_type": "code",
      "metadata": {
        "id": "ppicyC5R3oWA",
        "outputId": "cbaffc2b-4a7d-4a2d-8db9-35353783205f",
        "colab": {
          "base_uri": "https://localhost:8080/",
          "height": 34
        }
      },
      "source": [
        "df3_num.shape"
      ],
      "execution_count": 12,
      "outputs": [
        {
          "output_type": "execute_result",
          "data": {
            "text/plain": [
              "(400, 12)"
            ]
          },
          "metadata": {
            "tags": []
          },
          "execution_count": 12
        }
      ]
    },
    {
      "cell_type": "code",
      "metadata": {
        "id": "vBNJW9od3qBL",
        "outputId": "78ca04f8-788f-4226-d89b-0ce2e07334b8",
        "colab": {
          "base_uri": "https://localhost:8080/",
          "height": 371
        }
      },
      "source": [
        "sns.heatmap(delete_miss_per_columns.isnull())"
      ],
      "execution_count": 13,
      "outputs": [
        {
          "output_type": "execute_result",
          "data": {
            "text/plain": [
              "<matplotlib.axes._subplots.AxesSubplot at 0x7f22952e5390>"
            ]
          },
          "metadata": {
            "tags": []
          },
          "execution_count": 13
        },
        {
          "output_type": "display_data",
          "data": {
            "image/png": "[encoded data removed]",
            "text/plain": [
              "<Figure size 432x288 with 2 Axes>"
            ]
          },
          "metadata": {
            "tags": [],
            "needs_background": "light"
          }
        }
      ]
    },
    {
      "cell_type": "code",
      "metadata": {
        "id": "5fMIY8V73sQM",
        "outputId": "9fe737e3-8850-4dbb-b275-1dc40657385b",
        "colab": {
          "base_uri": "https://localhost:8080/",
          "height": 299
        }
      },
      "source": [
        "# Return the null values columns\n",
        "df3_num[df3_num.isnull().any(axis=1)].head()"
      ],
      "execution_count": 14,
      "outputs": [
        {
          "output_type": "execute_result",
          "data": {
            "text/html": [
              "<div>\n",
              "<style scoped>\n",
              "    .dataframe tbody tr th:only-of-type {\n",
              "        vertical-align: middle;\n",
              "    }\n",
              "\n",
              "    .dataframe tbody tr th {\n",
              "        vertical-align: top;\n",
              "    }\n",
              "\n",
              "    .dataframe thead th {\n",
              "        text-align: right;\n",
              "    }\n",
              "</style>\n",
              "<table border=\"1\" class=\"dataframe\">\n",
              "  <thead>\n",
              "    <tr style=\"text-align: right;\">\n",
              "      <th></th>\n",
              "      <th>hotel_id</th>\n",
              "      <th>city_id</th>\n",
              "      <th>hotel_type</th>\n",
              "      <th>basename</th>\n",
              "      <th>distance_to_center</th>\n",
              "      <th>longitude</th>\n",
              "      <th>latitude</th>\n",
              "      <th>overall_rating</th>\n",
              "      <th>impression_level</th>\n",
              "      <th>interaction_level</th>\n",
              "      <th>wifi_lobby</th>\n",
              "      <th>wifi_room</th>\n",
              "    </tr>\n",
              "  </thead>\n",
              "  <tbody>\n",
              "    <tr>\n",
              "      <th>0</th>\n",
              "      <td>11511119</td>\n",
              "      <td>31497</td>\n",
              "      <td>Hotel</td>\n",
              "      <td>Xi Hu</td>\n",
              "      <td>2799</td>\n",
              "      <td>114.171005</td>\n",
              "      <td>22.306065</td>\n",
              "      <td>NaN</td>\n",
              "      <td>1</td>\n",
              "      <td>1</td>\n",
              "      <td>1.0</td>\n",
              "      <td>1.0</td>\n",
              "    </tr>\n",
              "    <tr>\n",
              "      <th>3</th>\n",
              "      <td>11814291</td>\n",
              "      <td>14121</td>\n",
              "      <td>Hotel</td>\n",
              "      <td>Elia City</td>\n",
              "      <td>611</td>\n",
              "      <td>22.938929</td>\n",
              "      <td>40.634880</td>\n",
              "      <td>NaN</td>\n",
              "      <td>1</td>\n",
              "      <td>1</td>\n",
              "      <td>1.0</td>\n",
              "      <td>1.0</td>\n",
              "    </tr>\n",
              "    <tr>\n",
              "      <th>20</th>\n",
              "      <td>7170159</td>\n",
              "      <td>14257</td>\n",
              "      <td>Hotel</td>\n",
              "      <td>Hyatt Regency Los Angeles International Airport</td>\n",
              "      <td>17374</td>\n",
              "      <td>-118.395111</td>\n",
              "      <td>33.946163</td>\n",
              "      <td>2.0</td>\n",
              "      <td>1</td>\n",
              "      <td>1</td>\n",
              "      <td>1.0</td>\n",
              "      <td>NaN</td>\n",
              "    </tr>\n",
              "    <tr>\n",
              "      <th>44</th>\n",
              "      <td>11940539</td>\n",
              "      <td>14257</td>\n",
              "      <td>Home / Apartment</td>\n",
              "      <td>Boutique Hollywood</td>\n",
              "      <td>6520</td>\n",
              "      <td>-118.301659</td>\n",
              "      <td>34.096268</td>\n",
              "      <td>3.0</td>\n",
              "      <td>1</td>\n",
              "      <td>1</td>\n",
              "      <td>NaN</td>\n",
              "      <td>NaN</td>\n",
              "    </tr>\n",
              "    <tr>\n",
              "      <th>45</th>\n",
              "      <td>211627</td>\n",
              "      <td>27561</td>\n",
              "      <td>Hotel</td>\n",
              "      <td>Rokin</td>\n",
              "      <td>161</td>\n",
              "      <td>4.892997</td>\n",
              "      <td>52.370232</td>\n",
              "      <td>3.0</td>\n",
              "      <td>1</td>\n",
              "      <td>1</td>\n",
              "      <td>NaN</td>\n",
              "      <td>1.0</td>\n",
              "    </tr>\n",
              "  </tbody>\n",
              "</table>\n",
              "</div>"
            ],
            "text/plain": [
              "    hotel_id  city_id        hotel_type  \\\n",
              "0   11511119    31497             Hotel   \n",
              "3   11814291    14121             Hotel   \n",
              "20   7170159    14257             Hotel   \n",
              "44  11940539    14257  Home / Apartment   \n",
              "45    211627    27561             Hotel   \n",
              "\n",
              "                                           basename  distance_to_center  \\\n",
              "0                                             Xi Hu                2799   \n",
              "3                                         Elia City                 611   \n",
              "20  Hyatt Regency Los Angeles International Airport               17374   \n",
              "44                               Boutique Hollywood                6520   \n",
              "45                                            Rokin                 161   \n",
              "\n",
              "     longitude   latitude  overall_rating  impression_level  \\\n",
              "0   114.171005  22.306065             NaN                 1   \n",
              "3    22.938929  40.634880             NaN                 1   \n",
              "20 -118.395111  33.946163             2.0                 1   \n",
              "44 -118.301659  34.096268             3.0                 1   \n",
              "45    4.892997  52.370232             3.0                 1   \n",
              "\n",
              "    interaction_level  wifi_lobby  wifi_room  \n",
              "0                   1         1.0        1.0  \n",
              "3                   1         1.0        1.0  \n",
              "20                  1         1.0        NaN  \n",
              "44                  1         NaN        NaN  \n",
              "45                  1         NaN        1.0  "
            ]
          },
          "metadata": {
            "tags": []
          },
          "execution_count": 14
        }
      ]
    },
    {
      "cell_type": "code",
      "metadata": {
        "id": "95hk_Pxb3uGb",
        "outputId": "73f5c922-0b5a-4f38-8ccd-13a93025ba89",
        "colab": {
          "base_uri": "https://localhost:8080/",
          "height": 235
        }
      },
      "source": [
        "df3_num.isnull().sum()"
      ],
      "execution_count": 15,
      "outputs": [
        {
          "output_type": "execute_result",
          "data": {
            "text/plain": [
              "hotel_id               0\n",
              "city_id                0\n",
              "hotel_type             0\n",
              "basename               0\n",
              "distance_to_center     0\n",
              "longitude              0\n",
              "latitude               0\n",
              "overall_rating        41\n",
              "impression_level       0\n",
              "interaction_level      0\n",
              "wifi_lobby            58\n",
              "wifi_room             58\n",
              "dtype: int64"
            ]
          },
          "metadata": {
            "tags": []
          },
          "execution_count": 15
        }
      ]
    },
    {
      "cell_type": "code",
      "metadata": {
        "id": "py1k1Yn33v_U",
        "outputId": "78d2ef9a-3292-4caa-8190-117348d88f2c",
        "colab": {
          "base_uri": "https://localhost:8080/",
          "height": 235
        }
      },
      "source": [
        "df3_num.isnull().sum()/df.shape[0]*100"
      ],
      "execution_count": 16,
      "outputs": [
        {
          "output_type": "execute_result",
          "data": {
            "text/plain": [
              "hotel_id               0.00\n",
              "city_id                0.00\n",
              "hotel_type             0.00\n",
              "basename               0.00\n",
              "distance_to_center     0.00\n",
              "longitude              0.00\n",
              "latitude               0.00\n",
              "overall_rating        10.25\n",
              "impression_level       0.00\n",
              "interaction_level      0.00\n",
              "wifi_lobby            14.50\n",
              "wifi_room             14.50\n",
              "dtype: float64"
            ]
          },
          "metadata": {
            "tags": []
          },
          "execution_count": 16
        }
      ]
    },
    {
      "cell_type": "code",
      "metadata": {
        "id": "EulWrVSA3xkQ",
        "outputId": "7ed11e7c-c58a-4e2b-bfb7-6b6b99fcd6a2",
        "colab": {
          "base_uri": "https://localhost:8080/",
          "height": 34
        }
      },
      "source": [
        "missing_num_var =[var for var in df3_num.columns if df3_num[var].isnull().sum()>0]\n",
        "missing_num_var"
      ],
      "execution_count": 17,
      "outputs": [
        {
          "output_type": "execute_result",
          "data": {
            "text/plain": [
              "['overall_rating', 'wifi_lobby', 'wifi_room']"
            ]
          },
          "metadata": {
            "tags": []
          },
          "execution_count": 17
        }
      ]
    },
    {
      "cell_type": "code",
      "metadata": {
        "id": "6v4YDcqw3zZ-"
      },
      "source": [
        "# Here question raise how we can fill these missing values?\n",
        "# Q1- who we can fill these missing values mean or median?\n",
        "# Answer- First we can see the data distribution. \n",
        "#            1- If our distribution is symetric means (Normal/Bell Shape Distribution), So we can use mean.\n",
        "#            2- If our distribution is asymetric means (Left or Right Skewed), So we can use median."
      ],
      "execution_count": 18,
      "outputs": []
    },
    {
      "cell_type": "code",
      "metadata": {
        "id": "Q8CsMi-d34jl",
        "outputId": "b2451738-d1fc-4a4c-8e52-38744863a769",
        "colab": {
          "base_uri": "https://localhost:8080/",
          "height": 611
        }
      },
      "source": [
        "# Checking the distribution of missing values columns\n",
        "plt.figure(figsize=(10,10))\n",
        "sns.set()\n",
        "for i, var in enumerate(missing_num_var):\n",
        "    plt.subplot(2,2,i+1)\n",
        "    sns.distplot(df3_num[var],bins=20,kde_kws={'linewidth':5, 'color':'#DC143C'})"
      ],
      "execution_count": 19,
      "outputs": [
        {
          "output_type": "display_data",
          "data": {
            "image/png": "[encoded data removed]",
            "text/plain": [
              "<Figure size 720x720 with 3 Axes>"
            ]
          },
          "metadata": {
            "tags": [],
            "needs_background": "light"
          }
        }
      ]
    },
    {
      "cell_type": "code",
      "metadata": {
        "id": "weIV5b9536tU",
        "outputId": "8f5e6d38-bb08-4d95-e14b-d4430f3d27df",
        "colab": {
          "base_uri": "https://localhost:8080/",
          "height": 34
        }
      },
      "source": [
        "# We can fill missing values by using Mean because our distribution is skewed\n",
        "df4_num_mean = df3_num.fillna(df3_num.mean())\n",
        "df4_num_mean.isnull().sum().sum()"
      ],
      "execution_count": 20,
      "outputs": [
        {
          "output_type": "execute_result",
          "data": {
            "text/plain": [
              "0"
            ]
          },
          "metadata": {
            "tags": []
          },
          "execution_count": 20
        }
      ]
    },
    {
      "cell_type": "code",
      "metadata": {
        "id": "7SVj6oTE3_Kt",
        "outputId": "fc0f6ccb-ff14-4273-8916-b84149b1b0bc",
        "colab": {
          "base_uri": "https://localhost:8080/",
          "height": 611
        }
      },
      "source": [
        "# comparing the graph of orignal dataset distribution and clean dataset distribution\n",
        "plt.figure(figsize=(10,10))\n",
        "sns.set()\n",
        "for i, var in enumerate(missing_num_var):\n",
        "    plt.subplot(2,2,i+1)\n",
        "    sns.distplot(df3_num[var], bins=20, kde_kws={'linewidth':8, 'color':'red'}, label=\"orignal\",)\n",
        "    sns.distplot(df4_num_mean[var], bins=20, kde_kws={'linewidth':5, 'color':'green'}, label=\"Mean\",)\n",
        "    plt.legend()"
      ],
      "execution_count": 21,
      "outputs": [
        {
          "output_type": "display_data",
          "data": {
            "image/png": "[encoded data removed]",
            "text/plain": [
              "<Figure size 720x720 with 3 Axes>"
            ]
          },
          "metadata": {
            "tags": []
          }
        }
      ]
    },
    {
      "cell_type": "code",
      "metadata": {
        "id": "SnkXZCi14A0E",
        "outputId": "56fcbe11-a5b0-4611-ac7a-14add8f109dd",
        "colab": {
          "base_uri": "https://localhost:8080/",
          "height": 34
        }
      },
      "source": [
        "# We can fill missing values by using Median because our distribution is skewed\n",
        "df5_num_median = df3_num.fillna(df3_num.median())\n",
        "df5_num_median.isnull().sum().sum()"
      ],
      "execution_count": 22,
      "outputs": [
        {
          "output_type": "execute_result",
          "data": {
            "text/plain": [
              "0"
            ]
          },
          "metadata": {
            "tags": []
          },
          "execution_count": 22
        }
      ]
    },
    {
      "cell_type": "code",
      "metadata": {
        "id": "3UZ4ia0p4Cq5",
        "outputId": "0bee5b53-dd7a-479b-846c-69390d334548",
        "colab": {
          "base_uri": "https://localhost:8080/",
          "height": 611
        }
      },
      "source": [
        "plt.figure(figsize=(10,10))\n",
        "sns.set()\n",
        "for i, var in enumerate(missing_num_var):\n",
        "    plt.subplot(2,2,i+1)\n",
        "    sns.distplot(df3_num[var], bins=20,hist=False, kde_kws={'linewidth':8, 'color':'red'}, label=\"Original\",)\n",
        "    sns.distplot(df4_num_mean[var], bins=20,hist=False, kde_kws={'linewidth':5, 'color':'green'},label=\"Mean\",)\n",
        "    sns.distplot(df5_num_median[var], bins=20,hist=False, kde_kws={'linewidth':3, 'color':'k'},label=\"Median\",)\n",
        "    plt.legend()"
      ],
      "execution_count": 23,
      "outputs": [
        {
          "output_type": "display_data",
          "data": {
            "image/png": "[encoded data removed]",
            "text/plain": [
              "<Figure size 720x720 with 3 Axes>"
            ]
          },
          "metadata": {
            "tags": []
          }
        }
      ]
    },
    {
      "cell_type": "code",
      "metadata": {
        "id": "GwDrp4gE4EZp"
      },
      "source": [
        "# for i, var in enumerate(missing_num_var):\n",
        "#     plt.figure(figsize=(10,10))\n",
        "#     plt.subplot(3,1,1)\n",
        "#     sns.boxplot(df[var])\n",
        "#     plt.subplot(3,1,2)\n",
        "#     sns.boxplot(df4_num_mean[var])\n",
        "#     plt.subplot(3,1,3)\n",
        "#     sns.boxplot(df5_num_median[var])"
      ],
      "execution_count": 24,
      "outputs": []
    },
    {
      "cell_type": "code",
      "metadata": {
        "id": "GvF5jG-34Ghe"
      },
      "source": [
        "df_concat = pd.concat([df3_num[missing_num_var],df4_num_mean[missing_num_var],df5_num_median[missing_num_var]], axis=1)"
      ],
      "execution_count": 25,
      "outputs": []
    },
    {
      "cell_type": "code",
      "metadata": {
        "id": "6NfSylGU4IH2",
        "outputId": "e14eea0b-e956-4a7a-8fdf-381dcb24e7e1",
        "colab": {
          "base_uri": "https://localhost:8080/",
          "height": 195
        }
      },
      "source": [
        "df_concat[df_concat.isnull().any(axis=1)].head()"
      ],
      "execution_count": 26,
      "outputs": [
        {
          "output_type": "execute_result",
          "data": {
            "text/html": [
              "<div>\n",
              "<style scoped>\n",
              "    .dataframe tbody tr th:only-of-type {\n",
              "        vertical-align: middle;\n",
              "    }\n",
              "\n",
              "    .dataframe tbody tr th {\n",
              "        vertical-align: top;\n",
              "    }\n",
              "\n",
              "    .dataframe thead th {\n",
              "        text-align: right;\n",
              "    }\n",
              "</style>\n",
              "<table border=\"1\" class=\"dataframe\">\n",
              "  <thead>\n",
              "    <tr style=\"text-align: right;\">\n",
              "      <th></th>\n",
              "      <th>overall_rating</th>\n",
              "      <th>wifi_lobby</th>\n",
              "      <th>wifi_room</th>\n",
              "      <th>overall_rating</th>\n",
              "      <th>wifi_lobby</th>\n",
              "      <th>wifi_room</th>\n",
              "      <th>overall_rating</th>\n",
              "      <th>wifi_lobby</th>\n",
              "      <th>wifi_room</th>\n",
              "    </tr>\n",
              "  </thead>\n",
              "  <tbody>\n",
              "    <tr>\n",
              "      <th>0</th>\n",
              "      <td>NaN</td>\n",
              "      <td>1.0</td>\n",
              "      <td>1.0</td>\n",
              "      <td>3.206128</td>\n",
              "      <td>1.000000</td>\n",
              "      <td>1.000000</td>\n",
              "      <td>3.0</td>\n",
              "      <td>1.0</td>\n",
              "      <td>1.0</td>\n",
              "    </tr>\n",
              "    <tr>\n",
              "      <th>3</th>\n",
              "      <td>NaN</td>\n",
              "      <td>1.0</td>\n",
              "      <td>1.0</td>\n",
              "      <td>3.206128</td>\n",
              "      <td>1.000000</td>\n",
              "      <td>1.000000</td>\n",
              "      <td>3.0</td>\n",
              "      <td>1.0</td>\n",
              "      <td>1.0</td>\n",
              "    </tr>\n",
              "    <tr>\n",
              "      <th>20</th>\n",
              "      <td>2.0</td>\n",
              "      <td>1.0</td>\n",
              "      <td>NaN</td>\n",
              "      <td>2.000000</td>\n",
              "      <td>1.000000</td>\n",
              "      <td>0.988304</td>\n",
              "      <td>2.0</td>\n",
              "      <td>1.0</td>\n",
              "      <td>1.0</td>\n",
              "    </tr>\n",
              "    <tr>\n",
              "      <th>44</th>\n",
              "      <td>3.0</td>\n",
              "      <td>NaN</td>\n",
              "      <td>NaN</td>\n",
              "      <td>3.000000</td>\n",
              "      <td>0.988304</td>\n",
              "      <td>0.988304</td>\n",
              "      <td>3.0</td>\n",
              "      <td>1.0</td>\n",
              "      <td>1.0</td>\n",
              "    </tr>\n",
              "    <tr>\n",
              "      <th>45</th>\n",
              "      <td>3.0</td>\n",
              "      <td>NaN</td>\n",
              "      <td>1.0</td>\n",
              "      <td>3.000000</td>\n",
              "      <td>0.988304</td>\n",
              "      <td>1.000000</td>\n",
              "      <td>3.0</td>\n",
              "      <td>1.0</td>\n",
              "      <td>1.0</td>\n",
              "    </tr>\n",
              "  </tbody>\n",
              "</table>\n",
              "</div>"
            ],
            "text/plain": [
              "    overall_rating  wifi_lobby  wifi_room  overall_rating  wifi_lobby  \\\n",
              "0              NaN         1.0        1.0        3.206128    1.000000   \n",
              "3              NaN         1.0        1.0        3.206128    1.000000   \n",
              "20             2.0         1.0        NaN        2.000000    1.000000   \n",
              "44             3.0         NaN        NaN        3.000000    0.988304   \n",
              "45             3.0         NaN        1.0        3.000000    0.988304   \n",
              "\n",
              "    wifi_room  overall_rating  wifi_lobby  wifi_room  \n",
              "0    1.000000             3.0         1.0        1.0  \n",
              "3    1.000000             3.0         1.0        1.0  \n",
              "20   0.988304             2.0         1.0        1.0  \n",
              "44   0.988304             3.0         1.0        1.0  \n",
              "45   1.000000             3.0         1.0        1.0  "
            ]
          },
          "metadata": {
            "tags": []
          },
          "execution_count": 26
        }
      ]
    },
    {
      "cell_type": "code",
      "metadata": {
        "id": "m851F28B4J3T",
        "outputId": "bdbc6ab4-108a-417a-f5a6-c82e51d454e4",
        "colab": {
          "base_uri": "https://localhost:8080/",
          "height": 304
        }
      },
      "source": [
        "df3_num.describe()"
      ],
      "execution_count": 27,
      "outputs": [
        {
          "output_type": "execute_result",
          "data": {
            "text/html": [
              "<div>\n",
              "<style scoped>\n",
              "    .dataframe tbody tr th:only-of-type {\n",
              "        vertical-align: middle;\n",
              "    }\n",
              "\n",
              "    .dataframe tbody tr th {\n",
              "        vertical-align: top;\n",
              "    }\n",
              "\n",
              "    .dataframe thead th {\n",
              "        text-align: right;\n",
              "    }\n",
              "</style>\n",
              "<table border=\"1\" class=\"dataframe\">\n",
              "  <thead>\n",
              "    <tr style=\"text-align: right;\">\n",
              "      <th></th>\n",
              "      <th>hotel_id</th>\n",
              "      <th>city_id</th>\n",
              "      <th>distance_to_center</th>\n",
              "      <th>longitude</th>\n",
              "      <th>latitude</th>\n",
              "      <th>overall_rating</th>\n",
              "      <th>impression_level</th>\n",
              "      <th>interaction_level</th>\n",
              "      <th>wifi_lobby</th>\n",
              "      <th>wifi_room</th>\n",
              "    </tr>\n",
              "  </thead>\n",
              "  <tbody>\n",
              "    <tr>\n",
              "      <th>count</th>\n",
              "      <td>4.000000e+02</td>\n",
              "      <td>400.000000</td>\n",
              "      <td>4.000000e+02</td>\n",
              "      <td>400.000000</td>\n",
              "      <td>400.000000</td>\n",
              "      <td>359.000000</td>\n",
              "      <td>400.000000</td>\n",
              "      <td>400.000000</td>\n",
              "      <td>342.000000</td>\n",
              "      <td>342.000000</td>\n",
              "    </tr>\n",
              "    <tr>\n",
              "      <th>mean</th>\n",
              "      <td>4.244724e+06</td>\n",
              "      <td>21859.000000</td>\n",
              "      <td>1.321433e+04</td>\n",
              "      <td>5.996754</td>\n",
              "      <td>37.322597</td>\n",
              "      <td>3.206128</td>\n",
              "      <td>1.930000</td>\n",
              "      <td>1.692500</td>\n",
              "      <td>0.988304</td>\n",
              "      <td>0.988304</td>\n",
              "    </tr>\n",
              "    <tr>\n",
              "      <th>std</th>\n",
              "      <td>5.293982e+06</td>\n",
              "      <td>7805.128062</td>\n",
              "      <td>1.526345e+05</td>\n",
              "      <td>82.822482</td>\n",
              "      <td>10.893116</td>\n",
              "      <td>1.308275</td>\n",
              "      <td>1.764336</td>\n",
              "      <td>1.361093</td>\n",
              "      <td>0.107671</td>\n",
              "      <td>0.107671</td>\n",
              "    </tr>\n",
              "    <tr>\n",
              "      <th>min</th>\n",
              "      <td>1.585300e+04</td>\n",
              "      <td>14121.000000</td>\n",
              "      <td>0.000000e+00</td>\n",
              "      <td>-118.468529</td>\n",
              "      <td>22.199528</td>\n",
              "      <td>1.000000</td>\n",
              "      <td>1.000000</td>\n",
              "      <td>1.000000</td>\n",
              "      <td>0.000000</td>\n",
              "      <td>0.000000</td>\n",
              "    </tr>\n",
              "    <tr>\n",
              "      <th>25%</th>\n",
              "      <td>1.083580e+05</td>\n",
              "      <td>14223.000000</td>\n",
              "      <td>9.305000e+02</td>\n",
              "      <td>-18.350004</td>\n",
              "      <td>30.073911</td>\n",
              "      <td>2.000000</td>\n",
              "      <td>1.000000</td>\n",
              "      <td>1.000000</td>\n",
              "      <td>1.000000</td>\n",
              "      <td>1.000000</td>\n",
              "    </tr>\n",
              "    <tr>\n",
              "      <th>50%</th>\n",
              "      <td>1.934913e+06</td>\n",
              "      <td>20909.000000</td>\n",
              "      <td>2.337000e+03</td>\n",
              "      <td>13.834069</td>\n",
              "      <td>36.210762</td>\n",
              "      <td>3.000000</td>\n",
              "      <td>1.000000</td>\n",
              "      <td>1.000000</td>\n",
              "      <td>1.000000</td>\n",
              "      <td>1.000000</td>\n",
              "    </tr>\n",
              "    <tr>\n",
              "      <th>75%</th>\n",
              "      <td>7.009567e+06</td>\n",
              "      <td>28545.000000</td>\n",
              "      <td>6.200750e+03</td>\n",
              "      <td>46.274646</td>\n",
              "      <td>43.562843</td>\n",
              "      <td>4.000000</td>\n",
              "      <td>2.000000</td>\n",
              "      <td>2.000000</td>\n",
              "      <td>1.000000</td>\n",
              "      <td>1.000000</td>\n",
              "    </tr>\n",
              "    <tr>\n",
              "      <th>max</th>\n",
              "      <td>1.963608e+07</td>\n",
              "      <td>31497.000000</td>\n",
              "      <td>3.043545e+06</td>\n",
              "      <td>114.262268</td>\n",
              "      <td>52.427399</td>\n",
              "      <td>5.000000</td>\n",
              "      <td>10.000000</td>\n",
              "      <td>10.000000</td>\n",
              "      <td>1.000000</td>\n",
              "      <td>1.000000</td>\n",
              "    </tr>\n",
              "  </tbody>\n",
              "</table>\n",
              "</div>"
            ],
            "text/plain": [
              "           hotel_id       city_id  distance_to_center   longitude    latitude  \\\n",
              "count  4.000000e+02    400.000000        4.000000e+02  400.000000  400.000000   \n",
              "mean   4.244724e+06  21859.000000        1.321433e+04    5.996754   37.322597   \n",
              "std    5.293982e+06   7805.128062        1.526345e+05   82.822482   10.893116   \n",
              "min    1.585300e+04  14121.000000        0.000000e+00 -118.468529   22.199528   \n",
              "25%    1.083580e+05  14223.000000        9.305000e+02  -18.350004   30.073911   \n",
              "50%    1.934913e+06  20909.000000        2.337000e+03   13.834069   36.210762   \n",
              "75%    7.009567e+06  28545.000000        6.200750e+03   46.274646   43.562843   \n",
              "max    1.963608e+07  31497.000000        3.043545e+06  114.262268   52.427399   \n",
              "\n",
              "       overall_rating  impression_level  interaction_level  wifi_lobby  \\\n",
              "count      359.000000        400.000000         400.000000  342.000000   \n",
              "mean         3.206128          1.930000           1.692500    0.988304   \n",
              "std          1.308275          1.764336           1.361093    0.107671   \n",
              "min          1.000000          1.000000           1.000000    0.000000   \n",
              "25%          2.000000          1.000000           1.000000    1.000000   \n",
              "50%          3.000000          1.000000           1.000000    1.000000   \n",
              "75%          4.000000          2.000000           2.000000    1.000000   \n",
              "max          5.000000         10.000000          10.000000    1.000000   \n",
              "\n",
              "        wifi_room  \n",
              "count  342.000000  \n",
              "mean     0.988304  \n",
              "std      0.107671  \n",
              "min      0.000000  \n",
              "25%      1.000000  \n",
              "50%      1.000000  \n",
              "75%      1.000000  \n",
              "max      1.000000  "
            ]
          },
          "metadata": {
            "tags": []
          },
          "execution_count": 27
        }
      ]
    },
    {
      "cell_type": "code",
      "metadata": {
        "id": "CAFlFONu4L5h",
        "outputId": "c66a28a8-8676-4752-f723-f0f0ee1be045",
        "colab": {
          "base_uri": "https://localhost:8080/",
          "height": 333
        }
      },
      "source": [
        "df5_num_median.head()"
      ],
      "execution_count": 28,
      "outputs": [
        {
          "output_type": "execute_result",
          "data": {
            "text/html": [
              "<div>\n",
              "<style scoped>\n",
              "    .dataframe tbody tr th:only-of-type {\n",
              "        vertical-align: middle;\n",
              "    }\n",
              "\n",
              "    .dataframe tbody tr th {\n",
              "        vertical-align: top;\n",
              "    }\n",
              "\n",
              "    .dataframe thead th {\n",
              "        text-align: right;\n",
              "    }\n",
              "</style>\n",
              "<table border=\"1\" class=\"dataframe\">\n",
              "  <thead>\n",
              "    <tr style=\"text-align: right;\">\n",
              "      <th></th>\n",
              "      <th>hotel_id</th>\n",
              "      <th>city_id</th>\n",
              "      <th>hotel_type</th>\n",
              "      <th>basename</th>\n",
              "      <th>distance_to_center</th>\n",
              "      <th>longitude</th>\n",
              "      <th>latitude</th>\n",
              "      <th>overall_rating</th>\n",
              "      <th>impression_level</th>\n",
              "      <th>interaction_level</th>\n",
              "      <th>wifi_lobby</th>\n",
              "      <th>wifi_room</th>\n",
              "    </tr>\n",
              "  </thead>\n",
              "  <tbody>\n",
              "    <tr>\n",
              "      <th>0</th>\n",
              "      <td>11511119</td>\n",
              "      <td>31497</td>\n",
              "      <td>Hotel</td>\n",
              "      <td>Xi Hu</td>\n",
              "      <td>2799</td>\n",
              "      <td>114.171005</td>\n",
              "      <td>22.306065</td>\n",
              "      <td>3.0</td>\n",
              "      <td>1</td>\n",
              "      <td>1</td>\n",
              "      <td>1.0</td>\n",
              "      <td>1.0</td>\n",
              "    </tr>\n",
              "    <tr>\n",
              "      <th>1</th>\n",
              "      <td>11577919</td>\n",
              "      <td>14121</td>\n",
              "      <td>Hotel</td>\n",
              "      <td>Colors Urban  Thessaloniki</td>\n",
              "      <td>586</td>\n",
              "      <td>22.939219</td>\n",
              "      <td>40.634808</td>\n",
              "      <td>5.0</td>\n",
              "      <td>1</td>\n",
              "      <td>1</td>\n",
              "      <td>1.0</td>\n",
              "      <td>1.0</td>\n",
              "    </tr>\n",
              "    <tr>\n",
              "      <th>2</th>\n",
              "      <td>11530983</td>\n",
              "      <td>27561</td>\n",
              "      <td>Hotel</td>\n",
              "      <td>Van der Valk Hotel Oostzaan - Amsterdam</td>\n",
              "      <td>6485</td>\n",
              "      <td>4.876711</td>\n",
              "      <td>52.427399</td>\n",
              "      <td>5.0</td>\n",
              "      <td>1</td>\n",
              "      <td>2</td>\n",
              "      <td>1.0</td>\n",
              "      <td>1.0</td>\n",
              "    </tr>\n",
              "    <tr>\n",
              "      <th>3</th>\n",
              "      <td>11814291</td>\n",
              "      <td>14121</td>\n",
              "      <td>Hotel</td>\n",
              "      <td>Elia City</td>\n",
              "      <td>611</td>\n",
              "      <td>22.938929</td>\n",
              "      <td>40.634880</td>\n",
              "      <td>3.0</td>\n",
              "      <td>1</td>\n",
              "      <td>1</td>\n",
              "      <td>1.0</td>\n",
              "      <td>1.0</td>\n",
              "    </tr>\n",
              "    <tr>\n",
              "      <th>4</th>\n",
              "      <td>11938295</td>\n",
              "      <td>31497</td>\n",
              "      <td>Home / Apartment</td>\n",
              "      <td>Le Petit Rosedale  Hong Kong</td>\n",
              "      <td>2870</td>\n",
              "      <td>114.189240</td>\n",
              "      <td>22.279209</td>\n",
              "      <td>3.0</td>\n",
              "      <td>1</td>\n",
              "      <td>1</td>\n",
              "      <td>1.0</td>\n",
              "      <td>1.0</td>\n",
              "    </tr>\n",
              "  </tbody>\n",
              "</table>\n",
              "</div>"
            ],
            "text/plain": [
              "   hotel_id  city_id        hotel_type  \\\n",
              "0  11511119    31497             Hotel   \n",
              "1  11577919    14121             Hotel   \n",
              "2  11530983    27561             Hotel   \n",
              "3  11814291    14121             Hotel   \n",
              "4  11938295    31497  Home / Apartment   \n",
              "\n",
              "                                  basename  distance_to_center   longitude  \\\n",
              "0                                    Xi Hu                2799  114.171005   \n",
              "1               Colors Urban  Thessaloniki                 586   22.939219   \n",
              "2  Van der Valk Hotel Oostzaan - Amsterdam                6485    4.876711   \n",
              "3                                Elia City                 611   22.938929   \n",
              "4             Le Petit Rosedale  Hong Kong                2870  114.189240   \n",
              "\n",
              "    latitude  overall_rating  impression_level  interaction_level  wifi_lobby  \\\n",
              "0  22.306065             3.0                 1                  1         1.0   \n",
              "1  40.634808             5.0                 1                  1         1.0   \n",
              "2  52.427399             5.0                 1                  2         1.0   \n",
              "3  40.634880             3.0                 1                  1         1.0   \n",
              "4  22.279209             3.0                 1                  1         1.0   \n",
              "\n",
              "   wifi_room  \n",
              "0        1.0  \n",
              "1        1.0  \n",
              "2        1.0  \n",
              "3        1.0  \n",
              "4        1.0  "
            ]
          },
          "metadata": {
            "tags": []
          },
          "execution_count": 28
        }
      ]
    },
    {
      "cell_type": "code",
      "metadata": {
        "id": "WnjzGHrD4NVv"
      },
      "source": [
        " df5_num_median.to_csv('Hotels_Clean_Data.csv')"
      ],
      "execution_count": 29,
      "outputs": []
    },
    {
      "cell_type": "code",
      "metadata": {
        "id": "J_tgQPM24Pua"
      },
      "source": [
        "df5_num_median['ratings_average'] = df5_num_median.groupby(['hotel_id'])['overall_rating'].mean()\n",
        "df5_num_median['ratings_count'] = df5_num_median.groupby(['hotel_id'])['overall_rating'].count()"
      ],
      "execution_count": 30,
      "outputs": []
    },
    {
      "cell_type": "code",
      "metadata": {
        "id": "Vt3GcqeC4Snu",
        "outputId": "ce2712be-1db9-47c4-bed9-0c53443fef8e",
        "colab": {
          "base_uri": "https://localhost:8080/",
          "height": 195
        }
      },
      "source": [
        "df5_num_median[[ 'hotel_type', 'basename', 'ratings_average', 'ratings_count']].head()"
      ],
      "execution_count": 31,
      "outputs": [
        {
          "output_type": "execute_result",
          "data": {
            "text/html": [
              "<div>\n",
              "<style scoped>\n",
              "    .dataframe tbody tr th:only-of-type {\n",
              "        vertical-align: middle;\n",
              "    }\n",
              "\n",
              "    .dataframe tbody tr th {\n",
              "        vertical-align: top;\n",
              "    }\n",
              "\n",
              "    .dataframe thead th {\n",
              "        text-align: right;\n",
              "    }\n",
              "</style>\n",
              "<table border=\"1\" class=\"dataframe\">\n",
              "  <thead>\n",
              "    <tr style=\"text-align: right;\">\n",
              "      <th></th>\n",
              "      <th>hotel_type</th>\n",
              "      <th>basename</th>\n",
              "      <th>ratings_average</th>\n",
              "      <th>ratings_count</th>\n",
              "    </tr>\n",
              "  </thead>\n",
              "  <tbody>\n",
              "    <tr>\n",
              "      <th>0</th>\n",
              "      <td>Hotel</td>\n",
              "      <td>Xi Hu</td>\n",
              "      <td>NaN</td>\n",
              "      <td>NaN</td>\n",
              "    </tr>\n",
              "    <tr>\n",
              "      <th>1</th>\n",
              "      <td>Hotel</td>\n",
              "      <td>Colors Urban  Thessaloniki</td>\n",
              "      <td>NaN</td>\n",
              "      <td>NaN</td>\n",
              "    </tr>\n",
              "    <tr>\n",
              "      <th>2</th>\n",
              "      <td>Hotel</td>\n",
              "      <td>Van der Valk Hotel Oostzaan - Amsterdam</td>\n",
              "      <td>NaN</td>\n",
              "      <td>NaN</td>\n",
              "    </tr>\n",
              "    <tr>\n",
              "      <th>3</th>\n",
              "      <td>Hotel</td>\n",
              "      <td>Elia City</td>\n",
              "      <td>NaN</td>\n",
              "      <td>NaN</td>\n",
              "    </tr>\n",
              "    <tr>\n",
              "      <th>4</th>\n",
              "      <td>Home / Apartment</td>\n",
              "      <td>Le Petit Rosedale  Hong Kong</td>\n",
              "      <td>NaN</td>\n",
              "      <td>NaN</td>\n",
              "    </tr>\n",
              "  </tbody>\n",
              "</table>\n",
              "</div>"
            ],
            "text/plain": [
              "         hotel_type                                 basename  ratings_average  \\\n",
              "0             Hotel                                    Xi Hu              NaN   \n",
              "1             Hotel               Colors Urban  Thessaloniki              NaN   \n",
              "2             Hotel  Van der Valk Hotel Oostzaan - Amsterdam              NaN   \n",
              "3             Hotel                                Elia City              NaN   \n",
              "4  Home / Apartment             Le Petit Rosedale  Hong Kong              NaN   \n",
              "\n",
              "   ratings_count  \n",
              "0            NaN  \n",
              "1            NaN  \n",
              "2            NaN  \n",
              "3            NaN  \n",
              "4            NaN  "
            ]
          },
          "metadata": {
            "tags": []
          },
          "execution_count": 31
        }
      ]
    },
    {
      "cell_type": "code",
      "metadata": {
        "id": "9yU2p-284UhS",
        "outputId": "2616528f-06a4-4b16-a7f1-6bdc212b85d6",
        "colab": {
          "base_uri": "https://localhost:8080/",
          "height": 118
        }
      },
      "source": [
        "df5_num_median['overall_rating'].value_counts()"
      ],
      "execution_count": 32,
      "outputs": [
        {
          "output_type": "execute_result",
          "data": {
            "text/plain": [
              "3.0    132\n",
              "4.0     91\n",
              "5.0     70\n",
              "2.0     57\n",
              "1.0     50\n",
              "Name: overall_rating, dtype: int64"
            ]
          },
          "metadata": {
            "tags": []
          },
          "execution_count": 32
        }
      ]
    },
    {
      "cell_type": "code",
      "metadata": {
        "id": "F0AniRnq4WIC"
      },
      "source": [
        "# the lower the price, the more likely I am going to buy\n",
        "df5_num_median['rating_probability'] = df5_num_median['overall_rating'] * 1"
      ],
      "execution_count": 33,
      "outputs": []
    },
    {
      "cell_type": "code",
      "metadata": {
        "id": "JfCO6HcU4X2I",
        "outputId": "62cd154a-669c-4ea7-b4cb-2f4360d2f7d3",
        "colab": {
          "base_uri": "https://localhost:8080/",
          "height": 285
        }
      },
      "source": [
        "# Cheking ranking with rating probability\n",
        "plt.plot(df5_num_median['overall_rating'].values, df5_num_median['rating_probability'].values, 'ro') # ro = red circles\n",
        "plt.xlabel('overall_rating')\n",
        "plt.ylabel('rating_probability')\n",
        "plt.show()"
      ],
      "execution_count": 34,
      "outputs": [
        {
          "output_type": "display_data",
          "data": {
            "image/png": "[encoded data removed]",
            "text/plain": [
              "<Figure size 432x288 with 1 Axes>"
            ]
          },
          "metadata": {
            "tags": []
          }
        }
      ]
    },
    {
      "cell_type": "markdown",
      "metadata": {
        "id": "4zmXuEz64c8a"
      },
      "source": [
        "# 3- Preparing Data for Model"
      ]
    },
    {
      "cell_type": "code",
      "metadata": {
        "id": "6XJ-HfRK4Zto"
      },
      "source": [
        "#seperating dependent and independent variable\n",
        "\n",
        "X = df5_num_median.drop([\"rating_probability\",\"overall_rating\",\"ratings_average\",\"ratings_count\", 'longitude',\"latitude\",\"distance_to_center\"], axis=1)\n",
        "y = df5_num_median.overall_rating"
      ],
      "execution_count": 35,
      "outputs": []
    },
    {
      "cell_type": "code",
      "metadata": {
        "id": "xVZogk2H4bo-",
        "outputId": "b5261b45-558a-4b1e-d74a-9bcbcd45b3b7",
        "colab": {
          "base_uri": "https://localhost:8080/",
          "height": 195
        }
      },
      "source": [
        "X.head()"
      ],
      "execution_count": 36,
      "outputs": [
        {
          "output_type": "execute_result",
          "data": {
            "text/html": [
              "<div>\n",
              "<style scoped>\n",
              "    .dataframe tbody tr th:only-of-type {\n",
              "        vertical-align: middle;\n",
              "    }\n",
              "\n",
              "    .dataframe tbody tr th {\n",
              "        vertical-align: top;\n",
              "    }\n",
              "\n",
              "    .dataframe thead th {\n",
              "        text-align: right;\n",
              "    }\n",
              "</style>\n",
              "<table border=\"1\" class=\"dataframe\">\n",
              "  <thead>\n",
              "    <tr style=\"text-align: right;\">\n",
              "      <th></th>\n",
              "      <th>hotel_id</th>\n",
              "      <th>city_id</th>\n",
              "      <th>hotel_type</th>\n",
              "      <th>basename</th>\n",
              "      <th>impression_level</th>\n",
              "      <th>interaction_level</th>\n",
              "      <th>wifi_lobby</th>\n",
              "      <th>wifi_room</th>\n",
              "    </tr>\n",
              "  </thead>\n",
              "  <tbody>\n",
              "    <tr>\n",
              "      <th>0</th>\n",
              "      <td>11511119</td>\n",
              "      <td>31497</td>\n",
              "      <td>Hotel</td>\n",
              "      <td>Xi Hu</td>\n",
              "      <td>1</td>\n",
              "      <td>1</td>\n",
              "      <td>1.0</td>\n",
              "      <td>1.0</td>\n",
              "    </tr>\n",
              "    <tr>\n",
              "      <th>1</th>\n",
              "      <td>11577919</td>\n",
              "      <td>14121</td>\n",
              "      <td>Hotel</td>\n",
              "      <td>Colors Urban  Thessaloniki</td>\n",
              "      <td>1</td>\n",
              "      <td>1</td>\n",
              "      <td>1.0</td>\n",
              "      <td>1.0</td>\n",
              "    </tr>\n",
              "    <tr>\n",
              "      <th>2</th>\n",
              "      <td>11530983</td>\n",
              "      <td>27561</td>\n",
              "      <td>Hotel</td>\n",
              "      <td>Van der Valk Hotel Oostzaan - Amsterdam</td>\n",
              "      <td>1</td>\n",
              "      <td>2</td>\n",
              "      <td>1.0</td>\n",
              "      <td>1.0</td>\n",
              "    </tr>\n",
              "    <tr>\n",
              "      <th>3</th>\n",
              "      <td>11814291</td>\n",
              "      <td>14121</td>\n",
              "      <td>Hotel</td>\n",
              "      <td>Elia City</td>\n",
              "      <td>1</td>\n",
              "      <td>1</td>\n",
              "      <td>1.0</td>\n",
              "      <td>1.0</td>\n",
              "    </tr>\n",
              "    <tr>\n",
              "      <th>4</th>\n",
              "      <td>11938295</td>\n",
              "      <td>31497</td>\n",
              "      <td>Home / Apartment</td>\n",
              "      <td>Le Petit Rosedale  Hong Kong</td>\n",
              "      <td>1</td>\n",
              "      <td>1</td>\n",
              "      <td>1.0</td>\n",
              "      <td>1.0</td>\n",
              "    </tr>\n",
              "  </tbody>\n",
              "</table>\n",
              "</div>"
            ],
            "text/plain": [
              "   hotel_id  city_id        hotel_type  \\\n",
              "0  11511119    31497             Hotel   \n",
              "1  11577919    14121             Hotel   \n",
              "2  11530983    27561             Hotel   \n",
              "3  11814291    14121             Hotel   \n",
              "4  11938295    31497  Home / Apartment   \n",
              "\n",
              "                                  basename  impression_level  \\\n",
              "0                                    Xi Hu                 1   \n",
              "1               Colors Urban  Thessaloniki                 1   \n",
              "2  Van der Valk Hotel Oostzaan - Amsterdam                 1   \n",
              "3                                Elia City                 1   \n",
              "4             Le Petit Rosedale  Hong Kong                 1   \n",
              "\n",
              "   interaction_level  wifi_lobby  wifi_room  \n",
              "0                  1         1.0        1.0  \n",
              "1                  1         1.0        1.0  \n",
              "2                  2         1.0        1.0  \n",
              "3                  1         1.0        1.0  \n",
              "4                  1         1.0        1.0  "
            ]
          },
          "metadata": {
            "tags": []
          },
          "execution_count": 36
        }
      ]
    },
    {
      "cell_type": "code",
      "metadata": {
        "id": "iqkKYN5K4iTh"
      },
      "source": [
        "# Creating Dummy variables of non_numeric data\n",
        "X = pd.get_dummies(X, drop_first=True)"
      ],
      "execution_count": 37,
      "outputs": []
    },
    {
      "cell_type": "code",
      "metadata": {
        "id": "a-hwq7mHLHG1",
        "outputId": "aa30cc36-8b30-44ac-efa4-aab791729d46",
        "colab": {
          "base_uri": "https://localhost:8080/",
          "height": 34
        }
      },
      "source": [
        "X.shape"
      ],
      "execution_count": 38,
      "outputs": [
        {
          "output_type": "execute_result",
          "data": {
            "text/plain": [
              "(400, 411)"
            ]
          },
          "metadata": {
            "tags": []
          },
          "execution_count": 38
        }
      ]
    },
    {
      "cell_type": "code",
      "metadata": {
        "id": "GwA-vVv04kMM"
      },
      "source": [
        "#Splitting data into training and testing set\n",
        "X_train, X_test, y_train, y_test = train_test_split(X, y, test_size= 0.25, random_state=10)"
      ],
      "execution_count": 39,
      "outputs": []
    },
    {
      "cell_type": "code",
      "metadata": {
        "id": "LuL1vTQeLKFU",
        "outputId": "82111f63-1a1a-4475-e440-26e9b1d28c4b",
        "colab": {
          "base_uri": "https://localhost:8080/",
          "height": 84
        }
      },
      "source": [
        "print(X_train.shape)\n",
        "print(X_test.shape)\n",
        "print(y_train.shape)\n",
        "print(y_test.shape)"
      ],
      "execution_count": 40,
      "outputs": [
        {
          "output_type": "stream",
          "text": [
            "(300, 411)\n",
            "(100, 411)\n",
            "(300,)\n",
            "(100,)\n"
          ],
          "name": "stdout"
        }
      ]
    },
    {
      "cell_type": "markdown",
      "metadata": {
        "id": "wiKgg_UK4pfo"
      },
      "source": [
        "# 4- Model Implementation"
      ]
    },
    {
      "cell_type": "code",
      "metadata": {
        "id": "ca3L00iS4mHX",
        "outputId": "bf36598c-8581-4d9c-8686-af2dcbe35432",
        "colab": {
          "base_uri": "https://localhost:8080/",
          "height": 1000
        }
      },
      "source": [
        "def get_ensemble_models():\n",
        "    rf =RandomForestClassifier(n_estimators=51,min_samples_leaf=5,min_samples_split=3)\n",
        "    bagg = BaggingClassifier(n_estimators=51,random_state=42)\n",
        "    extra = ExtraTreesClassifier(n_estimators=51,random_state=42)\n",
        "    ada = AdaBoostClassifier(n_estimators=51,random_state=42)\n",
        "    grad = GradientBoostingClassifier(n_estimators=51,random_state=42)\n",
        "    clf = DecisionTreeClassifier(criterion='gini', splitter='best')\n",
        "    svc = SVC(kernel='rbf', C=1).fit(X_train, y_train)\n",
        "    log_regressor = LogisticRegression(random_state=10)\n",
        "    log_regressor.fit(X_train, y_train)\n",
        "    classifier_list = [rf,bagg,extra,ada,grad,clf,svc,log_regressor]\n",
        "    classifier_name_list = ['Random Forests','Bagging','Extra Trees','AdaBoost','Gradient Boost','Decision Tree','SVM','Logistic regression']\n",
        "    return classifier_list,classifier_name_list\n",
        "def print_evaluation_metrics(trained_model,trained_model_name,X_test,y_test):\n",
        "    print('--------- Model : ', trained_model_name, ' ---------------\\n')\n",
        "    predicted_values = trained_model.predict(X_test)\n",
        "    print(metrics.classification_report(y_test,predicted_values))\n",
        "    print(\"Accuracy Score : \",metrics.accuracy_score(y_test,predicted_values))\n",
        "    print(\"---------------------------------------\\n\")\n",
        "    \n",
        "classifier_list, classifier_name_list = get_ensemble_models()\n",
        "for classifier,classifier_name in zip(classifier_list,classifier_name_list):\n",
        "    classifier.fit(X_train,y_train)\n",
        "    print_evaluation_metrics(classifier,classifier_name,X_test,y_test)"
      ],
      "execution_count": 41,
      "outputs": [
        {
          "output_type": "stream",
          "text": [
            "--------- Model :  Random Forests  ---------------\n",
            "\n",
            "              precision    recall  f1-score   support\n",
            "\n",
            "         1.0       0.00      0.00      0.00        10\n",
            "         2.0       0.00      0.00      0.00        11\n",
            "         3.0       0.43      1.00      0.60        43\n",
            "         4.0       0.00      0.00      0.00        19\n",
            "         5.0       0.00      0.00      0.00        17\n",
            "\n",
            "    accuracy                           0.43       100\n",
            "   macro avg       0.09      0.20      0.12       100\n",
            "weighted avg       0.18      0.43      0.26       100\n",
            "\n",
            "Accuracy Score :  0.43\n",
            "---------------------------------------\n",
            "\n",
            "--------- Model :  Bagging  ---------------\n",
            "\n",
            "              precision    recall  f1-score   support\n",
            "\n",
            "         1.0       0.25      0.20      0.22        10\n",
            "         2.0       0.10      0.09      0.10        11\n",
            "         3.0       0.42      0.42      0.42        43\n",
            "         4.0       0.21      0.32      0.26        19\n",
            "         5.0       0.09      0.06      0.07        17\n",
            "\n",
            "    accuracy                           0.28       100\n",
            "   macro avg       0.21      0.22      0.21       100\n",
            "weighted avg       0.27      0.28      0.27       100\n",
            "\n",
            "Accuracy Score :  0.28\n",
            "---------------------------------------\n",
            "\n",
            "--------- Model :  Extra Trees  ---------------\n",
            "\n",
            "              precision    recall  f1-score   support\n",
            "\n",
            "         1.0       1.00      0.10      0.18        10\n",
            "         2.0       0.08      0.09      0.09        11\n",
            "         3.0       0.48      0.37      0.42        43\n",
            "         4.0       0.20      0.53      0.29        19\n",
            "         5.0       0.33      0.06      0.10        17\n",
            "\n",
            "    accuracy                           0.29       100\n",
            "   macro avg       0.42      0.23      0.22       100\n",
            "weighted avg       0.41      0.29      0.28       100\n",
            "\n",
            "Accuracy Score :  0.29\n",
            "---------------------------------------\n",
            "\n",
            "--------- Model :  AdaBoost  ---------------\n",
            "\n",
            "              precision    recall  f1-score   support\n",
            "\n",
            "         1.0       0.00      0.00      0.00        10\n",
            "         2.0       0.10      0.09      0.10        11\n",
            "         3.0       0.51      0.56      0.53        43\n",
            "         4.0       0.24      0.21      0.22        19\n",
            "         5.0       0.28      0.41      0.33        17\n",
            "\n",
            "    accuracy                           0.36       100\n",
            "   macro avg       0.23      0.25      0.24       100\n",
            "weighted avg       0.32      0.36      0.34       100\n",
            "\n",
            "Accuracy Score :  0.36\n",
            "---------------------------------------\n",
            "\n",
            "--------- Model :  Gradient Boost  ---------------\n",
            "\n",
            "              precision    recall  f1-score   support\n",
            "\n",
            "         1.0       1.00      0.10      0.18        10\n",
            "         2.0       0.00      0.00      0.00        11\n",
            "         3.0       0.45      0.56      0.50        43\n",
            "         4.0       0.20      0.42      0.27        19\n",
            "         5.0       0.00      0.00      0.00        17\n",
            "\n",
            "    accuracy                           0.33       100\n",
            "   macro avg       0.33      0.22      0.19       100\n",
            "weighted avg       0.33      0.33      0.28       100\n",
            "\n",
            "Accuracy Score :  0.33\n",
            "---------------------------------------\n",
            "\n",
            "--------- Model :  Decision Tree  ---------------\n",
            "\n",
            "              precision    recall  f1-score   support\n",
            "\n",
            "         1.0       0.24      0.40      0.30        10\n",
            "         2.0       0.09      0.09      0.09        11\n",
            "         3.0       0.56      0.33      0.41        43\n",
            "         4.0       0.12      0.16      0.14        19\n",
            "         5.0       0.23      0.29      0.26        17\n",
            "\n",
            "    accuracy                           0.27       100\n",
            "   macro avg       0.25      0.25      0.24       100\n",
            "weighted avg       0.34      0.27      0.29       100\n",
            "\n",
            "Accuracy Score :  0.27\n",
            "---------------------------------------\n",
            "\n",
            "--------- Model :  SVM  ---------------\n",
            "\n",
            "              precision    recall  f1-score   support\n",
            "\n",
            "         1.0       0.00      0.00      0.00        10\n",
            "         2.0       0.00      0.00      0.00        11\n",
            "         3.0       0.64      0.33      0.43        43\n",
            "         4.0       0.24      1.00      0.39        19\n",
            "         5.0       0.00      0.00      0.00        17\n",
            "\n",
            "    accuracy                           0.33       100\n",
            "   macro avg       0.18      0.27      0.16       100\n",
            "weighted avg       0.32      0.33      0.26       100\n",
            "\n",
            "Accuracy Score :  0.33\n",
            "---------------------------------------\n",
            "\n",
            "--------- Model :  Logistic regression  ---------------\n",
            "\n",
            "              precision    recall  f1-score   support\n",
            "\n",
            "         1.0       0.00      0.00      0.00        10\n",
            "         2.0       0.00      0.00      0.00        11\n",
            "         3.0       0.49      0.53      0.51        43\n",
            "         4.0       0.28      0.79      0.42        19\n",
            "         5.0       0.00      0.00      0.00        17\n",
            "\n",
            "    accuracy                           0.38       100\n",
            "   macro avg       0.15      0.26      0.19       100\n",
            "weighted avg       0.26      0.38      0.30       100\n",
            "\n",
            "Accuracy Score :  0.38\n",
            "---------------------------------------\n",
            "\n"
          ],
          "name": "stdout"
        }
      ]
    },
    {
      "cell_type": "code",
      "metadata": {
        "id": "lUN9qw0C6jEA",
        "outputId": "c3990963-d78b-4a8c-f6ab-e3c36de9dcf6",
        "colab": {
          "base_uri": "https://localhost:8080/",
          "height": 1000
        }
      },
      "source": [
        "confusion = confusion_matrix(y_test, y_pred)\n",
        "print('Confusion Matrix\\n')\n",
        "print(confusion)\n",
        "\n",
        "\n",
        "def print_confusion_metrics(trained_model,trained_model_name,X_test,y_test):\n",
        "    print('--------- Confusion Metrics : ', trained_model_name, ' ---------------\\n')\n",
        "    confusion = confusion_matrix(y_test, y_pred)\n",
        "    print(confusion)\n",
        "    print(\"---------------------------------------\\n\")\n",
        "    \n",
        "classifier_list, classifier_name_list = get_ensemble_models()\n",
        "for classifier,classifier_name in zip(classifier_list,classifier_name_list):\n",
        "    print_confusion_metrics(classifier,classifier_name,X_test,y_test)"
      ],
      "execution_count": 44,
      "outputs": [
        {
          "output_type": "stream",
          "text": [
            "Confusion Matrix\n",
            "\n",
            "[[ 2  2  4  1  1]\n",
            " [ 2  1  5  2  1]\n",
            " [ 3  4 18 13  5]\n",
            " [ 0  2  8  6  3]\n",
            " [ 1  1  8  6  1]]\n",
            "--------- Confusion Metrics :  Random Forests  ---------------\n",
            "\n",
            "[[ 2  2  4  1  1]\n",
            " [ 2  1  5  2  1]\n",
            " [ 3  4 18 13  5]\n",
            " [ 0  2  8  6  3]\n",
            " [ 1  1  8  6  1]]\n",
            "---------------------------------------\n",
            "\n",
            "--------- Confusion Metrics :  Bagging  ---------------\n",
            "\n",
            "[[ 2  2  4  1  1]\n",
            " [ 2  1  5  2  1]\n",
            " [ 3  4 18 13  5]\n",
            " [ 0  2  8  6  3]\n",
            " [ 1  1  8  6  1]]\n",
            "---------------------------------------\n",
            "\n",
            "--------- Confusion Metrics :  Extra Trees  ---------------\n",
            "\n",
            "[[ 2  2  4  1  1]\n",
            " [ 2  1  5  2  1]\n",
            " [ 3  4 18 13  5]\n",
            " [ 0  2  8  6  3]\n",
            " [ 1  1  8  6  1]]\n",
            "---------------------------------------\n",
            "\n",
            "--------- Confusion Metrics :  AdaBoost  ---------------\n",
            "\n",
            "[[ 2  2  4  1  1]\n",
            " [ 2  1  5  2  1]\n",
            " [ 3  4 18 13  5]\n",
            " [ 0  2  8  6  3]\n",
            " [ 1  1  8  6  1]]\n",
            "---------------------------------------\n",
            "\n",
            "--------- Confusion Metrics :  Gradient Boost  ---------------\n",
            "\n",
            "[[ 2  2  4  1  1]\n",
            " [ 2  1  5  2  1]\n",
            " [ 3  4 18 13  5]\n",
            " [ 0  2  8  6  3]\n",
            " [ 1  1  8  6  1]]\n",
            "---------------------------------------\n",
            "\n",
            "--------- Confusion Metrics :  Decision Tree  ---------------\n",
            "\n",
            "[[ 2  2  4  1  1]\n",
            " [ 2  1  5  2  1]\n",
            " [ 3  4 18 13  5]\n",
            " [ 0  2  8  6  3]\n",
            " [ 1  1  8  6  1]]\n",
            "---------------------------------------\n",
            "\n",
            "--------- Confusion Metrics :  SVM  ---------------\n",
            "\n",
            "[[ 2  2  4  1  1]\n",
            " [ 2  1  5  2  1]\n",
            " [ 3  4 18 13  5]\n",
            " [ 0  2  8  6  3]\n",
            " [ 1  1  8  6  1]]\n",
            "---------------------------------------\n",
            "\n",
            "--------- Confusion Metrics :  Logistic regression  ---------------\n",
            "\n",
            "[[ 2  2  4  1  1]\n",
            " [ 2  1  5  2  1]\n",
            " [ 3  4 18 13  5]\n",
            " [ 0  2  8  6  3]\n",
            " [ 1  1  8  6  1]]\n",
            "---------------------------------------\n",
            "\n"
          ],
          "name": "stdout"
        }
      ]
    },
    {
      "cell_type": "markdown",
      "metadata": {
        "id": "m3pZhnV26z5t"
      },
      "source": [
        "### Implementing Feed-Forward Neural Network"
      ]
    },
    {
      "cell_type": "code",
      "metadata": {
        "id": "plD4Rjla6xKV",
        "outputId": "b90656c4-b45e-4cc9-fc04-c210b77f5847",
        "colab": {
          "base_uri": "https://localhost:8080/",
          "height": 302
        }
      },
      "source": [
        "from sklearn.neural_network import MLPClassifier\n",
        "def get_neural_network(hidden_layer_size=50):\n",
        "    mlp = MLPClassifier(hidden_layer_sizes=hidden_layer_size)\n",
        "    return [mlp], ['MultiLayer Perceptron']\n",
        "    \n",
        "classifier_list, classifier_name_list = get_neural_network()\n",
        "for classifier,classifier_name in zip(classifier_list,classifier_name_list):\n",
        "    classifier.fit(X_train,y_train)\n",
        "    print_evaluation_metrics(classifier,classifier_name,X_test,y_test)"
      ],
      "execution_count": 45,
      "outputs": [
        {
          "output_type": "stream",
          "text": [
            "--------- Model :  MultiLayer Perceptron  ---------------\n",
            "\n",
            "              precision    recall  f1-score   support\n",
            "\n",
            "         1.0       0.20      0.50      0.29        10\n",
            "         2.0       0.00      0.00      0.00        11\n",
            "         3.0       0.46      0.58      0.52        43\n",
            "         4.0       0.00      0.00      0.00        19\n",
            "         5.0       0.19      0.24      0.21        17\n",
            "\n",
            "    accuracy                           0.34       100\n",
            "   macro avg       0.17      0.26      0.20       100\n",
            "weighted avg       0.25      0.34      0.29       100\n",
            "\n",
            "Accuracy Score :  0.34\n",
            "---------------------------------------\n",
            "\n"
          ],
          "name": "stdout"
        }
      ]
    },
    {
      "cell_type": "markdown",
      "metadata": {
        "id": "LGciH1JTKUD3"
      },
      "source": [
        "# 5- Optimal Model\n",
        "\n",
        "based on performance i.e classification report scores, Bagging model looks the most consistent."
      ]
    },
    {
      "cell_type": "code",
      "metadata": {
        "id": "uufXITXQKUD4"
      },
      "source": [
        "model_val =  BaggingClassifier(n_estimators=51,random_state=42)\n",
        "model_val.fit(X_train, y_train)\n",
        "y_pred = model_val.predict(X_test)"
      ],
      "execution_count": 49,
      "outputs": []
    },
    {
      "cell_type": "code",
      "metadata": {
        "id": "pvARwC2fMWY3"
      },
      "source": [
        "df_submit=X_test[[\"hotel_id\",\"city_id\"]]\n",
        "df_submit[\"score\"]=y_pred"
      ],
      "execution_count": 51,
      "outputs": []
    },
    {
      "cell_type": "code",
      "metadata": {
        "id": "VSSECa4OM4F6",
        "outputId": "28aeb8a6-1761-4652-a006-5d0a937c0d4d",
        "colab": {
          "base_uri": "https://localhost:8080/",
          "height": 106
        }
      },
      "source": [
        "df_submit.head(2)"
      ],
      "execution_count": 52,
      "outputs": [
        {
          "output_type": "execute_result",
          "data": {
            "text/html": [
              "<div>\n",
              "<style scoped>\n",
              "    .dataframe tbody tr th:only-of-type {\n",
              "        vertical-align: middle;\n",
              "    }\n",
              "\n",
              "    .dataframe tbody tr th {\n",
              "        vertical-align: top;\n",
              "    }\n",
              "\n",
              "    .dataframe thead th {\n",
              "        text-align: right;\n",
              "    }\n",
              "</style>\n",
              "<table border=\"1\" class=\"dataframe\">\n",
              "  <thead>\n",
              "    <tr style=\"text-align: right;\">\n",
              "      <th></th>\n",
              "      <th>hotel_id</th>\n",
              "      <th>city_id</th>\n",
              "      <th>score</th>\n",
              "    </tr>\n",
              "  </thead>\n",
              "  <tbody>\n",
              "    <tr>\n",
              "      <th>332</th>\n",
              "      <td>298283</td>\n",
              "      <td>14257</td>\n",
              "      <td>5.0</td>\n",
              "    </tr>\n",
              "    <tr>\n",
              "      <th>111</th>\n",
              "      <td>2609635</td>\n",
              "      <td>14121</td>\n",
              "      <td>2.0</td>\n",
              "    </tr>\n",
              "  </tbody>\n",
              "</table>\n",
              "</div>"
            ],
            "text/plain": [
              "     hotel_id  city_id  score\n",
              "332    298283    14257    5.0\n",
              "111   2609635    14121    2.0"
            ]
          },
          "metadata": {
            "tags": []
          },
          "execution_count": 52
        }
      ]
    },
    {
      "cell_type": "code",
      "metadata": {
        "id": "0umAXs3ZMwv8"
      },
      "source": [
        " df_submit.to_csv('submit.csv')"
      ],
      "execution_count": 53,
      "outputs": []
    }
  ]
}